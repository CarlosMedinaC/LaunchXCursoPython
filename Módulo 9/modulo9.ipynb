{
 "cells": [
  {
   "cell_type": "markdown",
   "metadata": {},
   "source": [
    "# Funciones\n",
    "__Funciones sin argumentos__"
   ]
  },
  {
   "cell_type": "code",
   "execution_count": 10,
   "metadata": {},
   "outputs": [
    {
     "name": "stdout",
     "output_type": "stream",
     "text": [
      "payload, propellant, structure\n",
      "payload, propellant, structure\n"
     ]
    }
   ],
   "source": [
    "# Definir función\n",
    "def rocket_parts():\n",
    "    print('payload, propellant, structure');\n",
    "\n",
    "# Llamar función\n",
    "rocket_parts();\n",
    "\n",
    "# Devolver un valor\n",
    "def rocket_parts_2():\n",
    "    return 'payload, propellant, structure';\n",
    "\n",
    "output = rocket_parts();\n"
   ]
  },
  {
   "cell_type": "markdown",
   "metadata": {},
   "source": [
    "## Argumentos en una función\n",
    "__Exigencia de un argumento__\n"
   ]
  },
  {
   "cell_type": "code",
   "execution_count": 14,
   "metadata": {},
   "outputs": [
    {
     "name": "stdout",
     "output_type": "stream",
     "text": [
      "238,855\n",
      "Unable to compute to that destination\n"
     ]
    }
   ],
   "source": [
    "def distance_from_earth(destination):\n",
    "    if destination == 'Moon':\n",
    "        return '238,855';\n",
    "    else:\n",
    "        return 'Unable to compute to that destination';\n",
    "\n",
    "print(distance_from_earth('Moon'));\n",
    "print(distance_from_earth('Saturn'));"
   ]
  },
  {
   "cell_type": "markdown",
   "metadata": {},
   "source": [
    "__Varios argumentos__"
   ]
  },
  {
   "cell_type": "code",
   "execution_count": 15,
   "metadata": {},
   "outputs": [
    {
     "name": "stdout",
     "output_type": "stream",
     "text": [
      "132.69722222222222\n"
     ]
    }
   ],
   "source": [
    "def days_to_complete(distance, speed):\n",
    "    hours = distance/speed;\n",
    "    return hours/24;\n",
    "\n",
    "print(days_to_complete(238855, 75))"
   ]
  },
  {
   "cell_type": "markdown",
   "metadata": {},
   "source": [
    "__Funciones como argumentos__"
   ]
  },
  {
   "cell_type": "code",
   "execution_count": 19,
   "metadata": {},
   "outputs": [
    {
     "name": "stdout",
     "output_type": "stream",
     "text": [
      "133\n",
      "133\n"
     ]
    }
   ],
   "source": [
    "total_days = days_to_complete(238855, 75);\n",
    "print(round(total_days));\n",
    "\n",
    "print(round(days_to_complete(238855, 75)));"
   ]
  },
  {
   "cell_type": "markdown",
   "metadata": {},
   "source": [
    "## Uso de argumentos de palabra clave en Python"
   ]
  },
  {
   "cell_type": "code",
   "execution_count": 29,
   "metadata": {},
   "outputs": [
    {
     "name": "stdout",
     "output_type": "stream",
     "text": [
      "Arrival: Friday 19:02\n"
     ]
    }
   ],
   "source": [
    "from datetime import timedelta, datetime;\n",
    "\n",
    "def arrival_time(hours=51):\n",
    "    now = datetime.now();\n",
    "    arrival = now + timedelta(hours=hours);\n",
    "    return arrival.strftime('Arrival: %A %H:%M');\n",
    "\n",
    "print(arrival_time());"
   ]
  },
  {
   "cell_type": "markdown",
   "metadata": {},
   "source": [
    "__Combinación de argumentos y argumentos de palabra clave__"
   ]
  },
  {
   "cell_type": "code",
   "execution_count": 31,
   "metadata": {},
   "outputs": [
    {
     "name": "stdout",
     "output_type": "stream",
     "text": [
      "Moon Arrival: Friday 19:06\n",
      "Orbit Arrival: Wednesday 16:14\n"
     ]
    }
   ],
   "source": [
    "from datetime import timedelta, datetime;\n",
    "\n",
    "def arrival_time(destination, hours=51):\n",
    "    now = datetime.now();\n",
    "    arrival = now + timedelta(hours=hours);\n",
    "    return arrival.strftime(f'{destination} Arrival: %A %H:%M');\n",
    "\n",
    "print(arrival_time('Moon'));\n",
    "\n",
    "print(arrival_time('Orbit', hours=0.13));"
   ]
  },
  {
   "cell_type": "markdown",
   "metadata": {},
   "source": [
    "## Uso de argumentos de variable en Python"
   ]
  },
  {
   "cell_type": "code",
   "execution_count": 35,
   "metadata": {},
   "outputs": [
    {
     "name": "stdout",
     "output_type": "stream",
     "text": [
      "()\n",
      "(None,)\n",
      "('one', 'two', 'three')\n"
     ]
    }
   ],
   "source": [
    "def variable_length(*args):\n",
    "    print(args);\n",
    "\n",
    "variable_length();\n",
    "\n",
    "variable_length(None);\n",
    "\n",
    "variable_length('one', 'two', 'three');"
   ]
  },
  {
   "cell_type": "code",
   "execution_count": 37,
   "metadata": {},
   "outputs": [
    {
     "name": "stdout",
     "output_type": "stream",
     "text": [
      "Total time to launch is 1.6 hours\n"
     ]
    }
   ],
   "source": [
    "def sequence_time(*args):\n",
    "    total_minutes = sum(args);\n",
    "    if total_minutes < 60:\n",
    "        return f'Total time to launch is {total_minutes} minutes';\n",
    "    else:\n",
    "        return f'Total time to launch is {total_minutes/60} hours';\n",
    "\n",
    "print(sequence_time(4, 14, 18, 60));"
   ]
  },
  {
   "cell_type": "markdown",
   "metadata": {},
   "source": [
    "__Argumentos de palabra clave variable__"
   ]
  },
  {
   "cell_type": "code",
   "execution_count": 38,
   "metadata": {},
   "outputs": [
    {
     "name": "stdout",
     "output_type": "stream",
     "text": [
      "{'tanks': 1, 'day': 'Wednesday', 'pilots': 3}\n"
     ]
    }
   ],
   "source": [
    "def variable_length(**kwargs):\n",
    "    print(kwargs);\n",
    "\n",
    "variable_length(tanks=1, day='Wednesday', pilots=3);"
   ]
  },
  {
   "cell_type": "code",
   "execution_count": 42,
   "metadata": {},
   "outputs": [
    {
     "name": "stdout",
     "output_type": "stream",
     "text": [
      "3 astronauts assigned for this mission:\n",
      "captain: Neil Armstrong\n",
      "pilot: Buzz Aldrin\n",
      "command_pilot: Michael Collins\n"
     ]
    }
   ],
   "source": [
    "def crew_members(**kwargs):\n",
    "    print(f'{len(kwargs)} astronauts assigned for this mission:');\n",
    "    for title, name in kwargs.items():\n",
    "        print(f'{title}: {name}');\n",
    "\n",
    "crew_members(captain='Neil Armstrong', pilot='Buzz Aldrin', command_pilot='Michael Collins');"
   ]
  }
 ],
 "metadata": {
  "interpreter": {
   "hash": "2be5faf79681da6f2a61fdfdd5405d65d042280f7fba6178067603e3a2925119"
  },
  "kernelspec": {
   "display_name": "Python 3.10.2 64-bit",
   "language": "python",
   "name": "python3"
  },
  "language_info": {
   "codemirror_mode": {
    "name": "ipython",
    "version": 3
   },
   "file_extension": ".py",
   "mimetype": "text/x-python",
   "name": "python",
   "nbconvert_exporter": "python",
   "pygments_lexer": "ipython3",
   "version": "3.10.2"
  },
  "orig_nbformat": 4
 },
 "nbformat": 4,
 "nbformat_minor": 2
}

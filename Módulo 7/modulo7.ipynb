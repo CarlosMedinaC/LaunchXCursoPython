{
 "cells": [
  {
   "cell_type": "markdown",
   "metadata": {},
   "source": [
    "# Estructuras de Control\n",
    "__Ciclo while__"
   ]
  },
  {
   "cell_type": "code",
   "execution_count": 1,
   "metadata": {},
   "outputs": [],
   "source": [
    "user_input = '';\n",
    "while user_input.lower() != 'done':\n",
    "    user_input = input(\"'Enter a new value. or done when done\");"
   ]
  },
  {
   "cell_type": "code",
   "execution_count": 2,
   "metadata": {},
   "outputs": [],
   "source": [
    "user_input = '';\n",
    "inputs = [];\n",
    "\n",
    "while user_input.lower() != 'done':\n",
    "    if user_input:\n",
    "        inputs.append(user_input);\n",
    "    user_input = input('Enter a new value, or done when done');"
   ]
  },
  {
   "cell_type": "markdown",
   "metadata": {},
   "source": [
    "__Ciclo for__"
   ]
  },
  {
   "cell_type": "code",
   "execution_count": 4,
   "metadata": {},
   "outputs": [
    {
     "name": "stdout",
     "output_type": "stream",
     "text": [
      "4\n",
      "3\n",
      "2\n",
      "1\n",
      "0\n",
      "Blast off!! 🚀\n"
     ]
    }
   ],
   "source": [
    "countdown = [4, 3, 2, 1, 0];\n",
    "for number in countdown:\n",
    "    print(number);\n",
    "print(\"Blast off!! 🚀\");"
   ]
  },
  {
   "cell_type": "code",
   "execution_count": 5,
   "metadata": {},
   "outputs": [
    {
     "name": "stdout",
     "output_type": "stream",
     "text": [
      "4\n",
      "3\n",
      "2\n",
      "1\n",
      "0\n",
      "Blast off!! 🚀\n"
     ]
    }
   ],
   "source": [
    "\n",
    "from time import sleep;\n",
    "\n",
    "countdown = [4, 3, 2, 1, 0];\n",
    "\n",
    "for number in countdown:\n",
    "    print(number);\n",
    "\n",
    "    sleep(1);\n",
    "\n",
    "print(\"Blast off!! 🚀\");"
   ]
  },
  {
   "cell_type": "code",
   "execution_count": 10,
   "metadata": {},
   "outputs": [
    {
     "name": "stdout",
     "output_type": "stream",
     "text": [
      "Los planetas que has ingresado son: ['Tierra', 'Jupiter']\n"
     ]
    }
   ],
   "source": [
    "# Lista de Planetas\n",
    "planetas = [];\n",
    "input_usuario = '';\n",
    "while input_usuario.lower() != 'salir':\n",
    "    if(input_usuario):\n",
    "        planetas.append(input_usuario);\n",
    "    input_usuario = input(\"Ingresa el nombre de un planeta, escbibe 'salir' para finalizar: \").capitalize();\n",
    "\n",
    "print(f'Los planetas que has ingresado son: {planetas}');"
   ]
  }
 ],
 "metadata": {
  "interpreter": {
   "hash": "2be5faf79681da6f2a61fdfdd5405d65d042280f7fba6178067603e3a2925119"
  },
  "kernelspec": {
   "display_name": "Python 3.10.2 64-bit",
   "language": "python",
   "name": "python3"
  },
  "language_info": {
   "codemirror_mode": {
    "name": "ipython",
    "version": 3
   },
   "file_extension": ".py",
   "mimetype": "text/x-python",
   "name": "python",
   "nbconvert_exporter": "python",
   "pygments_lexer": "ipython3",
   "version": "3.10.2"
  },
  "orig_nbformat": 4
 },
 "nbformat": 4,
 "nbformat_minor": 2
}

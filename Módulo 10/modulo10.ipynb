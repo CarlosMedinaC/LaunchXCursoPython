{
 "cells": [
  {
   "cell_type": "markdown",
   "metadata": {},
   "source": [
    "# Manejo de errores\n",
    "__Try y Except__"
   ]
  },
  {
   "cell_type": "code",
   "execution_count": null,
   "metadata": {},
   "outputs": [],
   "source": [
    "try:\n",
    "     open('config.txt');\n",
    "except FileNotFoundError:\n",
    "     print(\"Couldn't find the config.txt file!\");\n"
   ]
  },
  {
   "cell_type": "markdown",
   "metadata": {},
   "source": [
    "__Generación de excepciones__"
   ]
  },
  {
   "cell_type": "code",
   "execution_count": null,
   "metadata": {},
   "outputs": [],
   "source": [
    "def water_left(astronauts, water_left, days_left):\n",
    "    daily_usage = astronauts * 11;\n",
    "    total_usage = daily_usage * days_left;\n",
    "    total_water_left = water_left - total_usage;\n",
    "    return f\"Total water left after {days_left} days is: {total_water_left} liters\";\n",
    "\n",
    "water_left(5, 100, 2)\n",
    "\n",
    "\n"
   ]
  },
  {
   "cell_type": "code",
   "execution_count": null,
   "metadata": {},
   "outputs": [],
   "source": [
    "def water_left(astronauts, water_left, days_left):\n",
    "    daily_usage = astronauts * 11;\n",
    "    total_usage = daily_usage * days_left;\n",
    "    total_water_left = water_left - total_usage;\n",
    "    if total_water_left < 0:\n",
    "        raise RuntimeError(f\"There is not enough water for {astronauts} astronauts after {days_left} days!\");\n",
    "    return f\"Total water left after {days_left} days is: {total_water_left} liters\";\n",
    "\n",
    "try:\n",
    "    water_left(5, 100, 2);\n",
    "except RuntimeError as err:\n",
    "    alert_navigation_system(err);\n"
   ]
  },
  {
   "cell_type": "code",
   "execution_count": null,
   "metadata": {},
   "outputs": [],
   "source": [
    "def water_left(astronauts, water_left, days_left):\n",
    "    for argument in [astronauts, water_left, days_left]:\n",
    "        try:\n",
    "            argument / 10;\n",
    "        except TypeError:\n",
    "            raise TypeError(f\"All arguments must be of type int, but received: '{argument}'\");\n",
    "    daily_usage = astronauts * 11;\n",
    "    total_usage = daily_usage * days_left;\n",
    "    total_water_left = water_left - total_usage;\n",
    "    if total_water_left < 0:\n",
    "        raise RuntimeError(f\"There is not enough water for {astronauts} astronauts after {days_left} days!\");\n",
    "    return f\"Total water left after {days_left} days is: {total_water_left} liters\";\n",
    "\n",
    "water_left(\"3\", \"200\", None);"
   ]
  }
 ],
 "metadata": {
  "interpreter": {
   "hash": "2be5faf79681da6f2a61fdfdd5405d65d042280f7fba6178067603e3a2925119"
  },
  "kernelspec": {
   "display_name": "Python 3.10.2 64-bit",
   "language": "python",
   "name": "python3"
  },
  "language_info": {
   "codemirror_mode": {
    "name": "ipython",
    "version": 3
   },
   "file_extension": ".py",
   "mimetype": "text/x-python",
   "name": "python",
   "nbconvert_exporter": "python",
   "pygments_lexer": "ipython3",
   "version": "3.10.2"
  },
  "orig_nbformat": 4
 },
 "nbformat": 4,
 "nbformat_minor": 2
}

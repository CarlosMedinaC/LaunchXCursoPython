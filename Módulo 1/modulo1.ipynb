{
 "cells": [
  {
   "cell_type": "code",
   "execution_count": null,
   "metadata": {},
   "outputs": [],
   "source": [
    "#program.py\n",
    "sum = 1 + 2;\n",
    "print(sum);"
   ]
  },
  {
   "cell_type": "code",
   "execution_count": null,
   "metadata": {},
   "outputs": [],
   "source": [
    "#Imprimir en pantalla print()\n",
    "print(\"Hola desde la consola\");"
   ]
  },
  {
   "cell_type": "markdown",
   "metadata": {},
   "source": [
    "## Variables"
   ]
  },
  {
   "cell_type": "code",
   "execution_count": null,
   "metadata": {},
   "outputs": [],
   "source": [
    "sum = 1 + 2;\n",
    "product = sum * 2;\n",
    "print(product);"
   ]
  },
  {
   "cell_type": "markdown",
   "metadata": {},
   "source": [
    "__Tipos de Datos__"
   ]
  },
  {
   "cell_type": "code",
   "execution_count": null,
   "metadata": {},
   "outputs": [],
   "source": [
    "#int\n",
    "planetas_en_el_sitema_solar = 8;\n",
    "#float\n",
    "distancia_a_alfa_centauri = 4.367;\n",
    "#booleano\n",
    "puede_despegar = True;\n",
    "#string\n",
    "transbordador_que_aterrizo_en_la_luna = \"Apollo 11\";"
   ]
  },
  {
   "cell_type": "code",
   "execution_count": null,
   "metadata": {},
   "outputs": [],
   "source": [
    "#Podemos obtener el tipo de dato con la función type()\n",
    "print(type(distancia_a_alfa_centauri));"
   ]
  },
  {
   "cell_type": "markdown",
   "metadata": {},
   "source": [
    "## Operadores\n",
    "__Operadores Aritméticos__"
   ]
  },
  {
   "cell_type": "code",
   "execution_count": null,
   "metadata": {},
   "outputs": [],
   "source": [
    "left_side = 10;\n",
    "right_side = 5;\n",
    "print(left_side + right_side);\n",
    "print(left_side - right_side);\n",
    "print(left_side / right_side);\n",
    "print(left_side * right_side);"
   ]
  },
  {
   "cell_type": "markdown",
   "metadata": {},
   "source": [
    "__Operadores de Asignación__"
   ]
  },
  {
   "cell_type": "code",
   "execution_count": null,
   "metadata": {},
   "outputs": [],
   "source": [
    "x = 2;\n",
    "x += 2;\n",
    "print(x);\n",
    "\n",
    "x = 2;\n",
    "x -= 2;\n",
    "print(x);\n",
    "\n",
    "x = 2;\n",
    "x /= 2;\n",
    "print(x);\n",
    "\n",
    "x = 2;\n",
    "x *= 2;\n",
    "print(x);\n"
   ]
  },
  {
   "cell_type": "markdown",
   "metadata": {},
   "source": [
    "## Fechas"
   ]
  },
  {
   "cell_type": "code",
   "execution_count": 10,
   "metadata": {},
   "outputs": [
    {
     "name": "stdout",
     "output_type": "stream",
     "text": [
      "2022-02-11\n"
     ]
    }
   ],
   "source": [
    "from datetime import date;\n",
    "print(date.today());"
   ]
  },
  {
   "cell_type": "markdown",
   "metadata": {},
   "source": [
    "## Conversión de Tipos de Datos"
   ]
  },
  {
   "cell_type": "code",
   "execution_count": 12,
   "metadata": {},
   "outputs": [
    {
     "name": "stdout",
     "output_type": "stream",
     "text": [
      "Today's date is: 2022-02-11\n"
     ]
    }
   ],
   "source": [
    "print(\"Today's date is: \" + str(date.today()));"
   ]
  },
  {
   "cell_type": "markdown",
   "metadata": {},
   "source": [
    "## Entrada del Usuario"
   ]
  },
  {
   "cell_type": "code",
   "execution_count": 19,
   "metadata": {},
   "outputs": [
    {
     "name": "stdout",
     "output_type": "stream",
     "text": [
      "BIENVENIDO AL PROGRAMA\n",
      "Saludos:  Carlos\n",
      "Calculadora\n",
      "5020\n"
     ]
    }
   ],
   "source": [
    "print(\"Bienvenido al Programa\".upper());\n",
    "name = input(\"¿Cuál es tu nombre?\");\n",
    "print(\"Saludos: \", name);"
   ]
  },
  {
   "cell_type": "code",
   "execution_count": 20,
   "metadata": {},
   "outputs": [
    {
     "name": "stdout",
     "output_type": "stream",
     "text": [
      "Calculadora\n",
      "70\n"
     ]
    }
   ],
   "source": [
    "print(\"Calculadora\");\n",
    "first_number = input(\"Primer Número: \");\n",
    "second_number = input(\"Segundo Número: \");\n",
    "print(int(first_number) + int(second_number));"
   ]
  }
 ],
 "metadata": {
  "interpreter": {
   "hash": "2be5faf79681da6f2a61fdfdd5405d65d042280f7fba6178067603e3a2925119"
  },
  "kernelspec": {
   "display_name": "Python 3.10.2 64-bit",
   "language": "python",
   "name": "python3"
  },
  "language_info": {
   "codemirror_mode": {
    "name": "ipython",
    "version": 3
   },
   "file_extension": ".py",
   "mimetype": "text/x-python",
   "name": "python",
   "nbconvert_exporter": "python",
   "pygments_lexer": "ipython3",
   "version": "3.10.2"
  },
  "orig_nbformat": 4
 },
 "nbformat": 4,
 "nbformat_minor": 2
}
